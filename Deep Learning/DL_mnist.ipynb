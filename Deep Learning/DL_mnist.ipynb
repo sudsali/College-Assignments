{
  "cells": [
    {
      "cell_type": "code",
      "execution_count": 1,
      "id": "c829513b",
      "metadata": {
        "id": "c829513b"
      },
      "outputs": [],
      "source": [
        "#loading the necessary libraries\n",
        "from tensorflow.keras.datasets import mnist\n",
        "from matplotlib import pyplot as plt\n",
        "from tensorflow.keras.utils import to_categorical\n",
        "from tensorflow.keras.models import Sequential\n",
        "from tensorflow.keras.layers import Conv2D\n",
        "from tensorflow.keras.layers import MaxPooling2D\n",
        "from tensorflow.keras.layers import Dense\n",
        "from tensorflow.keras.layers import Flatten\n",
        "from tensorflow.keras.optimizers import SGD\n",
        "import pandas as pd"
      ]
    },
    {
      "cell_type": "code",
      "execution_count": 2,
      "id": "46d29a0d",
      "metadata": {
        "id": "46d29a0d"
      },
      "outputs": [],
      "source": [
        "#Load the dataset\n",
        "(trainX,trainy),(testX,testy) = mnist.load_data()"
      ]
    },
    {
      "cell_type": "code",
      "execution_count": 3,
      "id": "32bbf4b9",
      "metadata": {
        "colab": {
          "base_uri": "https://localhost:8080/"
        },
        "id": "32bbf4b9",
        "outputId": "d4b2f443-1df3-4cd5-86b4-de21d720c89f"
      },
      "outputs": [
        {
          "output_type": "stream",
          "name": "stdout",
          "text": [
            "(60000, 28, 28) (60000,)\n"
          ]
        }
      ],
      "source": [
        "#display train shape\n",
        "print(trainX.shape, trainy.shape)"
      ]
    },
    {
      "cell_type": "code",
      "execution_count": 4,
      "id": "ea4704b6",
      "metadata": {
        "colab": {
          "base_uri": "https://localhost:8080/"
        },
        "id": "ea4704b6",
        "outputId": "e22f69c2-c4b6-477d-e139-04e9e1d5d489"
      },
      "outputs": [
        {
          "output_type": "stream",
          "name": "stdout",
          "text": [
            "(10000, 28, 28) (10000,)\n"
          ]
        }
      ],
      "source": [
        "#display test shape\n",
        "print(testX.shape,testy.shape)"
      ]
    },
    {
      "cell_type": "code",
      "execution_count": 5,
      "id": "b852968a",
      "metadata": {
        "colab": {
          "base_uri": "https://localhost:8080/"
        },
        "id": "b852968a",
        "outputId": "103028f4-0895-4a11-a9ff-920c6843a643"
      },
      "outputs": [
        {
          "output_type": "execute_result",
          "data": {
            "text/plain": [
              "array([[[0, 0, 0, ..., 0, 0, 0],\n",
              "        [0, 0, 0, ..., 0, 0, 0],\n",
              "        [0, 0, 0, ..., 0, 0, 0],\n",
              "        ...,\n",
              "        [0, 0, 0, ..., 0, 0, 0],\n",
              "        [0, 0, 0, ..., 0, 0, 0],\n",
              "        [0, 0, 0, ..., 0, 0, 0]],\n",
              "\n",
              "       [[0, 0, 0, ..., 0, 0, 0],\n",
              "        [0, 0, 0, ..., 0, 0, 0],\n",
              "        [0, 0, 0, ..., 0, 0, 0],\n",
              "        ...,\n",
              "        [0, 0, 0, ..., 0, 0, 0],\n",
              "        [0, 0, 0, ..., 0, 0, 0],\n",
              "        [0, 0, 0, ..., 0, 0, 0]],\n",
              "\n",
              "       [[0, 0, 0, ..., 0, 0, 0],\n",
              "        [0, 0, 0, ..., 0, 0, 0],\n",
              "        [0, 0, 0, ..., 0, 0, 0],\n",
              "        ...,\n",
              "        [0, 0, 0, ..., 0, 0, 0],\n",
              "        [0, 0, 0, ..., 0, 0, 0],\n",
              "        [0, 0, 0, ..., 0, 0, 0]],\n",
              "\n",
              "       ...,\n",
              "\n",
              "       [[0, 0, 0, ..., 0, 0, 0],\n",
              "        [0, 0, 0, ..., 0, 0, 0],\n",
              "        [0, 0, 0, ..., 0, 0, 0],\n",
              "        ...,\n",
              "        [0, 0, 0, ..., 0, 0, 0],\n",
              "        [0, 0, 0, ..., 0, 0, 0],\n",
              "        [0, 0, 0, ..., 0, 0, 0]],\n",
              "\n",
              "       [[0, 0, 0, ..., 0, 0, 0],\n",
              "        [0, 0, 0, ..., 0, 0, 0],\n",
              "        [0, 0, 0, ..., 0, 0, 0],\n",
              "        ...,\n",
              "        [0, 0, 0, ..., 0, 0, 0],\n",
              "        [0, 0, 0, ..., 0, 0, 0],\n",
              "        [0, 0, 0, ..., 0, 0, 0]],\n",
              "\n",
              "       [[0, 0, 0, ..., 0, 0, 0],\n",
              "        [0, 0, 0, ..., 0, 0, 0],\n",
              "        [0, 0, 0, ..., 0, 0, 0],\n",
              "        ...,\n",
              "        [0, 0, 0, ..., 0, 0, 0],\n",
              "        [0, 0, 0, ..., 0, 0, 0],\n",
              "        [0, 0, 0, ..., 0, 0, 0]]], dtype=uint8)"
            ]
          },
          "metadata": {},
          "execution_count": 5
        }
      ],
      "source": [
        "trainX[:10]"
      ]
    },
    {
      "cell_type": "code",
      "execution_count": 6,
      "id": "342e2a76",
      "metadata": {
        "colab": {
          "base_uri": "https://localhost:8080/"
        },
        "id": "342e2a76",
        "outputId": "e4e60231-2421-4338-b0d2-f19def042a43"
      },
      "outputs": [
        {
          "output_type": "execute_result",
          "data": {
            "text/plain": [
              "array([5, 0, 4, 1, 9, 2, 1, 3, 1, 4], dtype=uint8)"
            ]
          },
          "metadata": {},
          "execution_count": 6
        }
      ],
      "source": [
        "trainy[:10]"
      ]
    },
    {
      "cell_type": "code",
      "execution_count": 7,
      "id": "4b3a50b6",
      "metadata": {
        "colab": {
          "base_uri": "https://localhost:8080/",
          "height": 268
        },
        "id": "4b3a50b6",
        "outputId": "09fa42e0-268f-472f-d5b8-d58247e09c73"
      },
      "outputs": [
        {
          "output_type": "display_data",
          "data": {
            "text/plain": [
              "<Figure size 432x288 with 9 Axes>"
            ],
            "image/png": "[encoded data removed]"
          },
          "metadata": {
            "needs_background": "light"
          }
        }
      ],
      "source": [
        "#display images from dataset\n",
        "for i in range(9):\n",
        "  plt.subplot(330 + 1 + i)\n",
        "  plt.imshow(trainX[i])\n",
        "plt.show()"
      ]
    },
    {
      "cell_type": "code",
      "execution_count": 8,
      "id": "87a89e55",
      "metadata": {
        "id": "87a89e55"
      },
      "outputs": [],
      "source": [
        "#uilding the model\n",
        "def define_model():\n",
        "  model = Sequential()\n",
        "  model.add(Conv2D(32,(3,3),activation='relu',kernel_initializer='he_uniform',input_shape=(28,28,1)))\n",
        "  model.add(MaxPooling2D((2,2)))\n",
        "  model.add(Flatten())\n",
        "  model.add(Dense(100,activation='relu',kernel_initializer='he_uniform'))\n",
        "  model.add(Dense(10,activation='softmax'))\n",
        "  opt = SGD(momentum=0.9)\n",
        "  model.compile(optimizer=opt, loss='categorical_crossentropy', metrics = ['accuracy'])\n",
        "  return model"
      ]
    },
    {
      "cell_type": "code",
      "execution_count": 9,
      "id": "b181f13b",
      "metadata": {
        "colab": {
          "base_uri": "https://localhost:8080/"
        },
        "id": "b181f13b",
        "outputId": "f14bb333-bb27-4098-d99b-d08ca237f092"
      },
      "outputs": [
        {
          "output_type": "stream",
          "name": "stdout",
          "text": [
            "Epoch 1/5\n",
            "1875/1875 [==============================] - 53s 28ms/step - loss: 0.1749 - accuracy: 0.9454 - val_loss: 0.0727 - val_accuracy: 0.9782\n",
            "Epoch 2/5\n",
            "1875/1875 [==============================] - 42s 22ms/step - loss: 0.0569 - accuracy: 0.9830 - val_loss: 0.0532 - val_accuracy: 0.9826\n",
            "Epoch 3/5\n",
            "1875/1875 [==============================] - 43s 23ms/step - loss: 0.0370 - accuracy: 0.9888 - val_loss: 0.0413 - val_accuracy: 0.9865\n",
            "Epoch 4/5\n",
            "1875/1875 [==============================] - 42s 23ms/step - loss: 0.0260 - accuracy: 0.9916 - val_loss: 0.0440 - val_accuracy: 0.9844\n",
            "Epoch 5/5\n",
            "1875/1875 [==============================] - 40s 21ms/step - loss: 0.0180 - accuracy: 0.9947 - val_loss: 0.0454 - val_accuracy: 0.9848\n"
          ]
        }
      ],
      "source": [
        "#reshape the data to have a single channel\n",
        "trainX = trainX.reshape((trainX.shape[0],28,28,1))\n",
        "testX = testX.reshape((testX.shape[0],28,28,1))\n",
        "\n",
        "# one hot encoding\n",
        "trainy = to_categorical(trainy)\n",
        "testy = to_categorical(testy)\n",
        "\n",
        "# normalize the values\n",
        "train_norm = trainX.astype('float32')\n",
        "test_norm = testX.astype('float32')\n",
        "trainX = train_norm/255.0\n",
        "testX = test_norm/255.0\n",
        "\n",
        "# model training\n",
        "model = define_model()\n",
        "H = model.fit(trainX,trainy,epochs=5,batch_size=32, validation_data=(testX,testy))"
      ]
    },
    {
      "cell_type": "code",
      "source": [
        "#evaluating the model\n",
        "print(model.evaluate(testX,testy))"
      ],
      "metadata": {
        "colab": {
          "base_uri": "https://localhost:8080/"
        },
        "id": "48gjNPAnGAWg",
        "outputId": "00f2f5de-55fa-497c-d510-d430af916e71"
      },
      "id": "48gjNPAnGAWg",
      "execution_count": 10,
      "outputs": [
        {
          "output_type": "stream",
          "name": "stdout",
          "text": [
            "313/313 [==============================] - 2s 8ms/step - loss: 0.0454 - accuracy: 0.9848\n",
            "[0.04537637159228325, 0.9847999811172485]\n"
          ]
        }
      ]
    },
    {
      "cell_type": "code",
      "source": [
        "#plotting the graph for accuracy and loss\n",
        "pd.DataFrame(H.history).plot(figsize=(8,5))\n",
        "plt.show()"
      ],
      "metadata": {
        "colab": {
          "base_uri": "https://localhost:8080/",
          "height": 320
        },
        "id": "rZuGnIk0GGOX",
        "outputId": "200f74f9-3dde-43ba-c894-a5627a271555"
      },
      "id": "rZuGnIk0GGOX",
      "execution_count": 11,
      "outputs": [
        {
          "output_type": "display_data",
          "data": {
            "text/plain": [
              "<Figure size 576x360 with 1 Axes>"
            ],
            "image/png": "[encoded data removed]"
          },
          "metadata": {
            "needs_background": "light"
          }
        }
      ]
    }
  ],
  "metadata": {
    "kernelspec": {
      "display_name": "Python 3 (ipykernel)",
      "language": "python",
      "name": "python3"
    },
    "language_info": {
      "codemirror_mode": {
        "name": "ipython",
        "version": 3
      },
      "file_extension": ".py",
      "mimetype": "text/x-python",
      "name": "python",
      "nbconvert_exporter": "python",
      "pygments_lexer": "ipython3",
      "version": "3.9.12"
    },
    "colab": {
      "provenance": []
    }
  },
  "nbformat": 4,
  "nbformat_minor": 5
}